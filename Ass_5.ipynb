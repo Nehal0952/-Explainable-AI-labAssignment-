{
  "nbformat": 4,
  "nbformat_minor": 0,
  "metadata": {
    "colab": {
      "provenance": [],
      "authorship_tag": "ABX9TyOnoCubKCcs18wkfWwqF7u4",
      "include_colab_link": true
    },
    "kernelspec": {
      "name": "python3",
      "display_name": "Python 3"
    },
    "language_info": {
      "name": "python"
    }
  },
  "cells": [
    {
      "cell_type": "markdown",
      "metadata": {
        "id": "view-in-github",
        "colab_type": "text"
      },
      "source": [
        "<a href=\"https://colab.research.google.com/github/Nehal0952/-Explainable-AI-labAssignment-/blob/main/Ass_5.ipynb\" target=\"_parent\"><img src=\"https://colab.research.google.com/assets/colab-badge.svg\" alt=\"Open In Colab\"/></a>"
      ]
    },
    {
      "cell_type": "code",
      "source": [
        "import pandas as pd\n",
        "import matplotlib.pyplot as plt\n",
        "import seaborn as sns\n",
        "\n",
        "df = pd.read_csv(\"/content/annual-co2-emissions-per-country.csv\")  # Replace with actual path\n",
        "\n",
        "# Basic inspection\n",
        "print(df.shape)\n",
        "print(df.dtypes)\n",
        "print(df.isnull().sum())\n",
        "\n",
        "# Summary stats\n",
        "print(df.describe())\n",
        "\n",
        "# Time trends\n",
        "sns.lineplot(data=df, x='Year', y='Annual CO2 emissions')\n",
        "plt.title(\"CO₂ Emissions Over Time by Region\")\n",
        "plt.show()\n",
        ""
      ],
      "metadata": {
        "colab": {
          "base_uri": "https://localhost:8080/",
          "height": 373
        },
        "id": "5wwX3K0nUFyc",
        "outputId": "977b248d-d4a0-419a-c82a-a432a5f3baed"
      },
      "execution_count": 5,
      "outputs": [
        {
          "output_type": "error",
          "ename": "FileNotFoundError",
          "evalue": "[Errno 2] No such file or directory: '/content/annual-co2-emissions-per-country.csv'",
          "traceback": [
            "\u001b[0;31m---------------------------------------------------------------------------\u001b[0m",
            "\u001b[0;31mFileNotFoundError\u001b[0m                         Traceback (most recent call last)",
            "\u001b[0;32m/tmp/ipython-input-1892484474.py\u001b[0m in \u001b[0;36m<cell line: 0>\u001b[0;34m()\u001b[0m\n\u001b[1;32m      3\u001b[0m \u001b[0;32mimport\u001b[0m \u001b[0mseaborn\u001b[0m \u001b[0;32mas\u001b[0m \u001b[0msns\u001b[0m\u001b[0;34m\u001b[0m\u001b[0;34m\u001b[0m\u001b[0m\n\u001b[1;32m      4\u001b[0m \u001b[0;34m\u001b[0m\u001b[0m\n\u001b[0;32m----> 5\u001b[0;31m \u001b[0mdf\u001b[0m \u001b[0;34m=\u001b[0m \u001b[0mpd\u001b[0m\u001b[0;34m.\u001b[0m\u001b[0mread_csv\u001b[0m\u001b[0;34m(\u001b[0m\u001b[0;34m\"/content/annual-co2-emissions-per-country.csv\"\u001b[0m\u001b[0;34m)\u001b[0m  \u001b[0;31m# Replace with actual path\u001b[0m\u001b[0;34m\u001b[0m\u001b[0;34m\u001b[0m\u001b[0m\n\u001b[0m\u001b[1;32m      6\u001b[0m \u001b[0;34m\u001b[0m\u001b[0m\n\u001b[1;32m      7\u001b[0m \u001b[0;31m# Basic inspection\u001b[0m\u001b[0;34m\u001b[0m\u001b[0;34m\u001b[0m\u001b[0m\n",
            "\u001b[0;32m/usr/local/lib/python3.12/dist-packages/pandas/io/parsers/readers.py\u001b[0m in \u001b[0;36mread_csv\u001b[0;34m(filepath_or_buffer, sep, delimiter, header, names, index_col, usecols, dtype, engine, converters, true_values, false_values, skipinitialspace, skiprows, skipfooter, nrows, na_values, keep_default_na, na_filter, verbose, skip_blank_lines, parse_dates, infer_datetime_format, keep_date_col, date_parser, date_format, dayfirst, cache_dates, iterator, chunksize, compression, thousands, decimal, lineterminator, quotechar, quoting, doublequote, escapechar, comment, encoding, encoding_errors, dialect, on_bad_lines, delim_whitespace, low_memory, memory_map, float_precision, storage_options, dtype_backend)\u001b[0m\n\u001b[1;32m   1024\u001b[0m     \u001b[0mkwds\u001b[0m\u001b[0;34m.\u001b[0m\u001b[0mupdate\u001b[0m\u001b[0;34m(\u001b[0m\u001b[0mkwds_defaults\u001b[0m\u001b[0;34m)\u001b[0m\u001b[0;34m\u001b[0m\u001b[0;34m\u001b[0m\u001b[0m\n\u001b[1;32m   1025\u001b[0m \u001b[0;34m\u001b[0m\u001b[0m\n\u001b[0;32m-> 1026\u001b[0;31m     \u001b[0;32mreturn\u001b[0m \u001b[0m_read\u001b[0m\u001b[0;34m(\u001b[0m\u001b[0mfilepath_or_buffer\u001b[0m\u001b[0;34m,\u001b[0m \u001b[0mkwds\u001b[0m\u001b[0;34m)\u001b[0m\u001b[0;34m\u001b[0m\u001b[0;34m\u001b[0m\u001b[0m\n\u001b[0m\u001b[1;32m   1027\u001b[0m \u001b[0;34m\u001b[0m\u001b[0m\n\u001b[1;32m   1028\u001b[0m \u001b[0;34m\u001b[0m\u001b[0m\n",
            "\u001b[0;32m/usr/local/lib/python3.12/dist-packages/pandas/io/parsers/readers.py\u001b[0m in \u001b[0;36m_read\u001b[0;34m(filepath_or_buffer, kwds)\u001b[0m\n\u001b[1;32m    618\u001b[0m \u001b[0;34m\u001b[0m\u001b[0m\n\u001b[1;32m    619\u001b[0m     \u001b[0;31m# Create the parser.\u001b[0m\u001b[0;34m\u001b[0m\u001b[0;34m\u001b[0m\u001b[0m\n\u001b[0;32m--> 620\u001b[0;31m     \u001b[0mparser\u001b[0m \u001b[0;34m=\u001b[0m \u001b[0mTextFileReader\u001b[0m\u001b[0;34m(\u001b[0m\u001b[0mfilepath_or_buffer\u001b[0m\u001b[0;34m,\u001b[0m \u001b[0;34m**\u001b[0m\u001b[0mkwds\u001b[0m\u001b[0;34m)\u001b[0m\u001b[0;34m\u001b[0m\u001b[0;34m\u001b[0m\u001b[0m\n\u001b[0m\u001b[1;32m    621\u001b[0m \u001b[0;34m\u001b[0m\u001b[0m\n\u001b[1;32m    622\u001b[0m     \u001b[0;32mif\u001b[0m \u001b[0mchunksize\u001b[0m \u001b[0;32mor\u001b[0m \u001b[0miterator\u001b[0m\u001b[0;34m:\u001b[0m\u001b[0;34m\u001b[0m\u001b[0;34m\u001b[0m\u001b[0m\n",
            "\u001b[0;32m/usr/local/lib/python3.12/dist-packages/pandas/io/parsers/readers.py\u001b[0m in \u001b[0;36m__init__\u001b[0;34m(self, f, engine, **kwds)\u001b[0m\n\u001b[1;32m   1618\u001b[0m \u001b[0;34m\u001b[0m\u001b[0m\n\u001b[1;32m   1619\u001b[0m         \u001b[0mself\u001b[0m\u001b[0;34m.\u001b[0m\u001b[0mhandles\u001b[0m\u001b[0;34m:\u001b[0m \u001b[0mIOHandles\u001b[0m \u001b[0;34m|\u001b[0m \u001b[0;32mNone\u001b[0m \u001b[0;34m=\u001b[0m \u001b[0;32mNone\u001b[0m\u001b[0;34m\u001b[0m\u001b[0;34m\u001b[0m\u001b[0m\n\u001b[0;32m-> 1620\u001b[0;31m         \u001b[0mself\u001b[0m\u001b[0;34m.\u001b[0m\u001b[0m_engine\u001b[0m \u001b[0;34m=\u001b[0m \u001b[0mself\u001b[0m\u001b[0;34m.\u001b[0m\u001b[0m_make_engine\u001b[0m\u001b[0;34m(\u001b[0m\u001b[0mf\u001b[0m\u001b[0;34m,\u001b[0m \u001b[0mself\u001b[0m\u001b[0;34m.\u001b[0m\u001b[0mengine\u001b[0m\u001b[0;34m)\u001b[0m\u001b[0;34m\u001b[0m\u001b[0;34m\u001b[0m\u001b[0m\n\u001b[0m\u001b[1;32m   1621\u001b[0m \u001b[0;34m\u001b[0m\u001b[0m\n\u001b[1;32m   1622\u001b[0m     \u001b[0;32mdef\u001b[0m \u001b[0mclose\u001b[0m\u001b[0;34m(\u001b[0m\u001b[0mself\u001b[0m\u001b[0;34m)\u001b[0m \u001b[0;34m->\u001b[0m \u001b[0;32mNone\u001b[0m\u001b[0;34m:\u001b[0m\u001b[0;34m\u001b[0m\u001b[0;34m\u001b[0m\u001b[0m\n",
            "\u001b[0;32m/usr/local/lib/python3.12/dist-packages/pandas/io/parsers/readers.py\u001b[0m in \u001b[0;36m_make_engine\u001b[0;34m(self, f, engine)\u001b[0m\n\u001b[1;32m   1878\u001b[0m                 \u001b[0;32mif\u001b[0m \u001b[0;34m\"b\"\u001b[0m \u001b[0;32mnot\u001b[0m \u001b[0;32min\u001b[0m \u001b[0mmode\u001b[0m\u001b[0;34m:\u001b[0m\u001b[0;34m\u001b[0m\u001b[0;34m\u001b[0m\u001b[0m\n\u001b[1;32m   1879\u001b[0m                     \u001b[0mmode\u001b[0m \u001b[0;34m+=\u001b[0m \u001b[0;34m\"b\"\u001b[0m\u001b[0;34m\u001b[0m\u001b[0;34m\u001b[0m\u001b[0m\n\u001b[0;32m-> 1880\u001b[0;31m             self.handles = get_handle(\n\u001b[0m\u001b[1;32m   1881\u001b[0m                 \u001b[0mf\u001b[0m\u001b[0;34m,\u001b[0m\u001b[0;34m\u001b[0m\u001b[0;34m\u001b[0m\u001b[0m\n\u001b[1;32m   1882\u001b[0m                 \u001b[0mmode\u001b[0m\u001b[0;34m,\u001b[0m\u001b[0;34m\u001b[0m\u001b[0;34m\u001b[0m\u001b[0m\n",
            "\u001b[0;32m/usr/local/lib/python3.12/dist-packages/pandas/io/common.py\u001b[0m in \u001b[0;36mget_handle\u001b[0;34m(path_or_buf, mode, encoding, compression, memory_map, is_text, errors, storage_options)\u001b[0m\n\u001b[1;32m    871\u001b[0m         \u001b[0;32mif\u001b[0m \u001b[0mioargs\u001b[0m\u001b[0;34m.\u001b[0m\u001b[0mencoding\u001b[0m \u001b[0;32mand\u001b[0m \u001b[0;34m\"b\"\u001b[0m \u001b[0;32mnot\u001b[0m \u001b[0;32min\u001b[0m \u001b[0mioargs\u001b[0m\u001b[0;34m.\u001b[0m\u001b[0mmode\u001b[0m\u001b[0;34m:\u001b[0m\u001b[0;34m\u001b[0m\u001b[0;34m\u001b[0m\u001b[0m\n\u001b[1;32m    872\u001b[0m             \u001b[0;31m# Encoding\u001b[0m\u001b[0;34m\u001b[0m\u001b[0;34m\u001b[0m\u001b[0m\n\u001b[0;32m--> 873\u001b[0;31m             handle = open(\n\u001b[0m\u001b[1;32m    874\u001b[0m                 \u001b[0mhandle\u001b[0m\u001b[0;34m,\u001b[0m\u001b[0;34m\u001b[0m\u001b[0;34m\u001b[0m\u001b[0m\n\u001b[1;32m    875\u001b[0m                 \u001b[0mioargs\u001b[0m\u001b[0;34m.\u001b[0m\u001b[0mmode\u001b[0m\u001b[0;34m,\u001b[0m\u001b[0;34m\u001b[0m\u001b[0;34m\u001b[0m\u001b[0m\n",
            "\u001b[0;31mFileNotFoundError\u001b[0m: [Errno 2] No such file or directory: '/content/annual-co2-emissions-per-country.csv'"
          ]
        }
      ]
    },
    {
      "cell_type": "code",
      "source": [
        "from sklearn.preprocessing import StandardScaler, LabelEncoder\n",
        "from sklearn.model_selection import train_test_split\n",
        "\n",
        "# Rename columns\n",
        "df.rename(columns={'Entity': 'Country', 'Code': 'Region'}, inplace=True)\n",
        "\n",
        "# Handle missing values in numeric columns\n",
        "for col in df.select_dtypes(include='number').columns:\n",
        "  df[col].fillna(df[col].median(), inplace=True)\n",
        "\n",
        "# Encode categorical variables\n",
        "df['Country'] = LabelEncoder().fit_transform(df['Country'])\n",
        "df['Region'] = LabelEncoder().fit_transform(df['Region'])\n",
        "\n",
        "# Scale features\n",
        "features = df.drop(columns=['Annual CO2 emissions'])\n",
        "target = df['Annual CO2 emissions']\n",
        "scaler = StandardScaler()\n",
        "X_scaled = scaler.fit_transform(features)\n",
        "\n",
        "# Train/test split\n",
        "X_train, X_test, y_train, y_test = train_test_split(X_scaled, target, test_size=0.2, random_state=42)"
      ],
      "metadata": {
        "id": "vqp1fqNgS4vH"
      },
      "execution_count": null,
      "outputs": []
    },
    {
      "cell_type": "code",
      "source": [
        "from sklearn.linear_model import LinearRegression, Ridge, Lasso\n",
        "from sklearn.tree import DecisionTreeRegressor\n",
        "from sklearn.ensemble import RandomForestRegressor, GradientBoostingRegressor\n",
        "from sklearn.svm import SVR\n",
        "from sklearn.metrics import mean_absolute_error, mean_squared_error, r2_score\n",
        "import numpy as np\n",
        "\n",
        "models = {\n",
        "    \"Linear\": LinearRegression(),\n",
        "    \"Ridge\": Ridge(),\n",
        "    \"Lasso\": Lasso(),\n",
        "    \"DecisionTree\": DecisionTreeRegressor(),\n",
        "    \"RandomForest\": RandomForestRegressor(),\n",
        "    \"GradientBoosting\": GradientBoostingRegressor(),\n",
        "    \"SVR\": SVR()\n",
        "}\n",
        "\n",
        "for name, model in models.items():\n",
        "    model.fit(X_train, y_train)\n",
        "    preds = model.predict(X_test)\n",
        "    mse = mean_squared_error(y_test, preds)\n",
        "    rmse = np.sqrt(mse)\n",
        "    print(f\"{name} → MAE: {mean_absolute_error(y_test, preds):.2f}, MSE: {mse:.2f}, RMSE: {rmse:.2f}, R²: {r2_score(y_test, preds):.2f}\")\n",
        ""
      ],
      "metadata": {
        "id": "zH4pU6ZoS73X"
      },
      "execution_count": null,
      "outputs": []
    },
    {
      "cell_type": "code",
      "source": [
        "import tensorflow as tf\n",
        "from tensorflow.keras.models import Sequential\n",
        "from tensorflow.keras.layers import Dense, Conv1D, Flatten, LSTM, GRU, MaxPooling1D\n",
        "from sklearn.metrics import mean_absolute_error, mean_squared_error, r2_score\n",
        "import numpy as np\n",
        "\n",
        "# MLP\n",
        "mlp = Sequential([\n",
        "    Dense(128, activation='relu', input_shape=(X_train.shape[1],)),\n",
        "    Dense(64, activation='relu'),\n",
        "    Dense(1)\n",
        "])\n",
        "mlp.compile(optimizer='adam', loss='mse', metrics=['mae'])\n",
        "print(\"Training MLP...\")\n",
        "mlp.fit(X_train, y_train, epochs=50, validation_split=0.2, verbose=0)\n",
        "mlp_preds = mlp.predict(X_test)\n",
        "mlp_mse = mean_squared_error(y_test, mlp_preds)\n",
        "mlp_rmse = np.sqrt(mlp_mse)\n",
        "print(f\"MLP → MAE: {mean_absolute_error(y_test, mlp_preds):.2f}, MSE: {mlp_mse:.2f}, RMSE: {mlp_rmse:.2f}, R²: {r2_score(y_test, mlp_preds):.2f}\")\n",
        "\n",
        "# CNN (1D)\n",
        "X_train_seq_cnn = X_train.reshape(X_train.shape[0], X_train.shape[1], 1)\n",
        "X_test_seq_cnn = X_test.reshape(X_test.shape[0], X_test.shape[1], 1)\n",
        "cnn = Sequential([\n",
        "    Conv1D(64, 1, activation='relu', input_shape=(X_train_seq_cnn.shape[1], 1)),\n",
        "    Flatten(),\n",
        "    Dense(1)\n",
        "])\n",
        "cnn.compile(optimizer='adam', loss='mse')\n",
        "print(\"Training CNN...\")\n",
        "cnn.fit(X_train_seq_cnn, y_train, epochs=50, validation_split=0.2, verbose=0)\n",
        "cnn_preds = cnn.predict(X_test_seq_cnn)\n",
        "cnn_mse = mean_squared_error(y_test, cnn_preds)\n",
        "cnn_rmse = np.sqrt(cnn_mse)\n",
        "print(f\"CNN → MAE: {mean_absolute_error(y_test, cnn_preds):.2f}, MSE: {cnn_mse:.2f}, RMSE: {cnn_rmse:.2f}, R²: {r2_score(y_test, cnn_preds):.2f}\")\n",
        "\n",
        "\n",
        "# LSTM\n",
        "X_train_seq_lstm = X_train.reshape(X_train.shape[0], X_train.shape[1], 1)\n",
        "X_test_seq_lstm = X_test.reshape(X_test.shape[0], X_test.shape[1], 1)\n",
        "lstm = Sequential([\n",
        "    LSTM(64, input_shape=(X_train_seq_lstm.shape[1], 1)),\n",
        "    Dense(32, activation='relu'),\n",
        "    Dense(1)\n",
        "])\n",
        "lstm.compile(optimizer='adam', loss='mse')\n",
        "print(\"Training LSTM...\")\n",
        "lstm.fit(X_train_seq_lstm, y_train, epochs=50, validation_split=0.2, verbose=0)\n",
        "lstm_preds = lstm.predict(X_test_seq_lstm)\n",
        "lstm_mse = mean_squared_error(y_test, lstm_preds)\n",
        "lstm_rmse = np.sqrt(lstm_mse)\n",
        "print(f\"LSTM → MAE: {mean_absolute_error(y_test, lstm_preds):.2f}, MSE: {lstm_mse:.2f}, RMSE: {lstm_rmse:.2f}, R²: {r2_score(y_test, lstm_preds):.2f}\")"
      ],
      "metadata": {
        "colab": {
          "base_uri": "https://localhost:8080/",
          "height": 211
        },
        "id": "FtfmXSx_TBbg",
        "outputId": "b01d4bca-ea0b-48b1-ac45-7c8df3f49fd1"
      },
      "execution_count": 3,
      "outputs": [
        {
          "output_type": "error",
          "ename": "NameError",
          "evalue": "name 'X_train' is not defined",
          "traceback": [
            "\u001b[0;31m---------------------------------------------------------------------------\u001b[0m",
            "\u001b[0;31mNameError\u001b[0m                                 Traceback (most recent call last)",
            "\u001b[0;32m/tmp/ipython-input-750499773.py\u001b[0m in \u001b[0;36m<cell line: 0>\u001b[0;34m()\u001b[0m\n\u001b[1;32m      7\u001b[0m \u001b[0;31m# MLP\u001b[0m\u001b[0;34m\u001b[0m\u001b[0;34m\u001b[0m\u001b[0m\n\u001b[1;32m      8\u001b[0m mlp = Sequential([\n\u001b[0;32m----> 9\u001b[0;31m     \u001b[0mDense\u001b[0m\u001b[0;34m(\u001b[0m\u001b[0;36m128\u001b[0m\u001b[0;34m,\u001b[0m \u001b[0mactivation\u001b[0m\u001b[0;34m=\u001b[0m\u001b[0;34m'relu'\u001b[0m\u001b[0;34m,\u001b[0m \u001b[0minput_shape\u001b[0m\u001b[0;34m=\u001b[0m\u001b[0;34m(\u001b[0m\u001b[0mX_train\u001b[0m\u001b[0;34m.\u001b[0m\u001b[0mshape\u001b[0m\u001b[0;34m[\u001b[0m\u001b[0;36m1\u001b[0m\u001b[0;34m]\u001b[0m\u001b[0;34m,\u001b[0m\u001b[0;34m)\u001b[0m\u001b[0;34m)\u001b[0m\u001b[0;34m,\u001b[0m\u001b[0;34m\u001b[0m\u001b[0;34m\u001b[0m\u001b[0m\n\u001b[0m\u001b[1;32m     10\u001b[0m     \u001b[0mDense\u001b[0m\u001b[0;34m(\u001b[0m\u001b[0;36m64\u001b[0m\u001b[0;34m,\u001b[0m \u001b[0mactivation\u001b[0m\u001b[0;34m=\u001b[0m\u001b[0;34m'relu'\u001b[0m\u001b[0;34m)\u001b[0m\u001b[0;34m,\u001b[0m\u001b[0;34m\u001b[0m\u001b[0;34m\u001b[0m\u001b[0m\n\u001b[1;32m     11\u001b[0m     \u001b[0mDense\u001b[0m\u001b[0;34m(\u001b[0m\u001b[0;36m1\u001b[0m\u001b[0;34m)\u001b[0m\u001b[0;34m\u001b[0m\u001b[0;34m\u001b[0m\u001b[0m\n",
            "\u001b[0;31mNameError\u001b[0m: name 'X_train' is not defined"
          ]
        }
      ]
    },
    {
      "cell_type": "code",
      "source": [
        "import shap\n",
        "from sklearn.ensemble import GradientBoostingRegressor\n",
        "from sklearn.inspection import PartialDependenceDisplay\n",
        "\n",
        "# SHAP\n",
        "explainer = shap.Explainer(models[\"GradientBoosting\"], X_train)\n",
        "shap_values = explainer(X_test)\n",
        "shap.summary_plot(shap_values, features)\n",
        "\n",
        "# LIME\n",
        "import lime\n",
        "import lime.lime_tabular\n",
        "lime_explainer = lime.lime_tabular.LimeTabularExplainer(X_train, feature_names=features.columns.tolist(), mode='regression')\n",
        "lime_exp = lime_explainer.explain_instance(X_test[0], models[\"RandomForest\"].predict)\n",
        "lime_exp.show_in_notebook()"
      ],
      "metadata": {
        "id": "ncloVvFmTEvg"
      },
      "execution_count": null,
      "outputs": []
    },
    {
      "cell_type": "code",
      "source": [
        "import shap\n",
        "from sklearn.ensemble import GradientBoostingRegressor\n",
        "# from sklearn.inspection import PartialDependenceDisplay # Removed due to error\n",
        "\n",
        "# SHAP\n",
        "explainer = shap.Explainer(models[\"GradientBoosting\"], X_train)\n",
        "shap_values = explainer(X_test)\n",
        "shap.summary_plot(shap_values, features)\n",
        "\n",
        "# PDP # Removed due to error\n",
        "# PartialDependenceDisplay.from_estimator(models[\"RandomForest\"], X_test, ['Coal_Emissions'])\n",
        "# plt.show()\n",
        "\n",
        "# LIME\n",
        "import lime\n",
        "import lime.lime_tabular\n",
        "lime_explainer = lime.lime_tabular.LimeTabularExplainer(X_train, feature_names=features.columns.tolist(), mode='regression')\n",
        "lime_exp = lime_explainer.explain_instance(X_test[0], models[\"RandomForest\"].predict)\n",
        "lime_exp.show_in_notebook()"
      ],
      "metadata": {
        "id": "Pq40QmpeTH6_"
      },
      "execution_count": null,
      "outputs": []
    },
    {
      "cell_type": "code",
      "source": [
        "import matplotlib.pyplot as plt\n",
        "from sklearn.inspection import PartialDependenceDisplay\n",
        "\n",
        "# PDP\n",
        "# We will use the 'Year' feature for the PDP plot as it is a relevant numerical feature.\n",
        "PartialDependenceDisplay.from_estimator(models[\"RandomForest\"], X_test, ['Year'], feature_names=features.columns.tolist())\n",
        "plt.suptitle(\"Partial Dependence Plot for Year\")\n",
        "plt.show()"
      ],
      "metadata": {
        "id": "cQHDt2bATMWx"
      },
      "execution_count": null,
      "outputs": []
    }
  ]
}